{
 "cells": [
  {
   "cell_type": "code",
   "execution_count": 2,
   "id": "9a3c7284",
   "metadata": {},
   "outputs": [],
   "source": [
    "import pandas as pd\n",
    "import numpy as np\n",
    "import scipy"
   ]
  },
  {
   "cell_type": "code",
   "execution_count": 5,
   "id": "63f9a64f",
   "metadata": {
    "scrolled": true
   },
   "outputs": [],
   "source": [
    "#tumor stage and treatment_type\n",
    "tcga_clinical=pd.read_csv('tcga-skcm/clinical.csv')\n",
    "tcga_clinical_sub=tcga_clinical[['case_submitter_id','ajcc_pathologic_m','ajcc_pathologic_t']]\n",
    "tcga_clinical_sub=tcga_clinical_sub.rename(columns = {\"case_submitter_id\":\"Patients\"})"
   ]
  },
  {
   "cell_type": "code",
   "execution_count": 6,
   "id": "99f87fbc",
   "metadata": {
    "scrolled": true
   },
   "outputs": [
    {
     "data": {
      "text/plain": [
       "M0     836\n",
       "'--     56\n",
       "M1c     20\n",
       "M1b     10\n",
       "M1      10\n",
       "M1a      8\n",
       "Name: ajcc_pathologic_m, dtype: int64"
      ]
     },
     "execution_count": 6,
     "metadata": {},
     "output_type": "execute_result"
    }
   ],
   "source": [
    "tcga_clinical_sub['ajcc_pathologic_m'].value_counts()"
   ]
  },
  {
   "cell_type": "code",
   "execution_count": 7,
   "id": "0e185cb7",
   "metadata": {
    "scrolled": true
   },
   "outputs": [
    {
     "data": {
      "text/html": [
       "<div>\n",
       "<style scoped>\n",
       "    .dataframe tbody tr th:only-of-type {\n",
       "        vertical-align: middle;\n",
       "    }\n",
       "\n",
       "    .dataframe tbody tr th {\n",
       "        vertical-align: top;\n",
       "    }\n",
       "\n",
       "    .dataframe thead th {\n",
       "        text-align: right;\n",
       "    }\n",
       "</style>\n",
       "<table border=\"1\" class=\"dataframe\">\n",
       "  <thead>\n",
       "    <tr style=\"text-align: right;\">\n",
       "      <th></th>\n",
       "      <th>Patients</th>\n",
       "      <th>ajcc_pathologic_m</th>\n",
       "      <th>ajcc_pathologic_t</th>\n",
       "    </tr>\n",
       "  </thead>\n",
       "  <tbody>\n",
       "    <tr>\n",
       "      <th>30</th>\n",
       "      <td>TCGA-GN-A263</td>\n",
       "      <td>M1c</td>\n",
       "      <td>T4b</td>\n",
       "    </tr>\n",
       "    <tr>\n",
       "      <th>31</th>\n",
       "      <td>TCGA-GN-A263</td>\n",
       "      <td>M1c</td>\n",
       "      <td>T4b</td>\n",
       "    </tr>\n",
       "    <tr>\n",
       "      <th>52</th>\n",
       "      <td>TCGA-WE-A8K5</td>\n",
       "      <td>M1c</td>\n",
       "      <td>T2a</td>\n",
       "    </tr>\n",
       "    <tr>\n",
       "      <th>53</th>\n",
       "      <td>TCGA-WE-A8K5</td>\n",
       "      <td>M1c</td>\n",
       "      <td>T2a</td>\n",
       "    </tr>\n",
       "    <tr>\n",
       "      <th>136</th>\n",
       "      <td>TCGA-FS-A1Z3</td>\n",
       "      <td>M1</td>\n",
       "      <td>TX</td>\n",
       "    </tr>\n",
       "    <tr>\n",
       "      <th>137</th>\n",
       "      <td>TCGA-FS-A1Z3</td>\n",
       "      <td>M1</td>\n",
       "      <td>TX</td>\n",
       "    </tr>\n",
       "    <tr>\n",
       "      <th>152</th>\n",
       "      <td>TCGA-EB-A5FP</td>\n",
       "      <td>M1b</td>\n",
       "      <td>T4b</td>\n",
       "    </tr>\n",
       "    <tr>\n",
       "      <th>153</th>\n",
       "      <td>TCGA-EB-A5FP</td>\n",
       "      <td>M1b</td>\n",
       "      <td>T4b</td>\n",
       "    </tr>\n",
       "    <tr>\n",
       "      <th>188</th>\n",
       "      <td>TCGA-RP-A695</td>\n",
       "      <td>M1c</td>\n",
       "      <td>TX</td>\n",
       "    </tr>\n",
       "    <tr>\n",
       "      <th>189</th>\n",
       "      <td>TCGA-RP-A695</td>\n",
       "      <td>M1c</td>\n",
       "      <td>TX</td>\n",
       "    </tr>\n",
       "    <tr>\n",
       "      <th>198</th>\n",
       "      <td>TCGA-RP-A693</td>\n",
       "      <td>M1c</td>\n",
       "      <td>TX</td>\n",
       "    </tr>\n",
       "    <tr>\n",
       "      <th>199</th>\n",
       "      <td>TCGA-RP-A693</td>\n",
       "      <td>M1c</td>\n",
       "      <td>TX</td>\n",
       "    </tr>\n",
       "    <tr>\n",
       "      <th>222</th>\n",
       "      <td>TCGA-ER-A19A</td>\n",
       "      <td>M1</td>\n",
       "      <td>TX</td>\n",
       "    </tr>\n",
       "    <tr>\n",
       "      <th>223</th>\n",
       "      <td>TCGA-ER-A19A</td>\n",
       "      <td>M1</td>\n",
       "      <td>TX</td>\n",
       "    </tr>\n",
       "    <tr>\n",
       "      <th>228</th>\n",
       "      <td>TCGA-FW-A3I3</td>\n",
       "      <td>M1</td>\n",
       "      <td>'--</td>\n",
       "    </tr>\n",
       "    <tr>\n",
       "      <th>229</th>\n",
       "      <td>TCGA-FW-A3I3</td>\n",
       "      <td>M1</td>\n",
       "      <td>'--</td>\n",
       "    </tr>\n",
       "    <tr>\n",
       "      <th>322</th>\n",
       "      <td>TCGA-WE-A8ZT</td>\n",
       "      <td>M1b</td>\n",
       "      <td>T3b</td>\n",
       "    </tr>\n",
       "    <tr>\n",
       "      <th>323</th>\n",
       "      <td>TCGA-WE-A8ZT</td>\n",
       "      <td>M1b</td>\n",
       "      <td>T3b</td>\n",
       "    </tr>\n",
       "    <tr>\n",
       "      <th>340</th>\n",
       "      <td>TCGA-BF-AAP0</td>\n",
       "      <td>M1</td>\n",
       "      <td>T4</td>\n",
       "    </tr>\n",
       "    <tr>\n",
       "      <th>341</th>\n",
       "      <td>TCGA-BF-AAP0</td>\n",
       "      <td>M1</td>\n",
       "      <td>T4</td>\n",
       "    </tr>\n",
       "    <tr>\n",
       "      <th>372</th>\n",
       "      <td>TCGA-DA-A95Z</td>\n",
       "      <td>M1a</td>\n",
       "      <td>TX</td>\n",
       "    </tr>\n",
       "    <tr>\n",
       "      <th>373</th>\n",
       "      <td>TCGA-DA-A95Z</td>\n",
       "      <td>M1a</td>\n",
       "      <td>TX</td>\n",
       "    </tr>\n",
       "    <tr>\n",
       "      <th>378</th>\n",
       "      <td>TCGA-DA-A1I0</td>\n",
       "      <td>M1a</td>\n",
       "      <td>T4b</td>\n",
       "    </tr>\n",
       "    <tr>\n",
       "      <th>379</th>\n",
       "      <td>TCGA-DA-A1I0</td>\n",
       "      <td>M1a</td>\n",
       "      <td>T4b</td>\n",
       "    </tr>\n",
       "    <tr>\n",
       "      <th>454</th>\n",
       "      <td>TCGA-D3-A1Q8</td>\n",
       "      <td>M1b</td>\n",
       "      <td>T0</td>\n",
       "    </tr>\n",
       "    <tr>\n",
       "      <th>455</th>\n",
       "      <td>TCGA-D3-A1Q8</td>\n",
       "      <td>M1b</td>\n",
       "      <td>T0</td>\n",
       "    </tr>\n",
       "    <tr>\n",
       "      <th>498</th>\n",
       "      <td>TCGA-ER-A3PL</td>\n",
       "      <td>M1a</td>\n",
       "      <td>T3b</td>\n",
       "    </tr>\n",
       "    <tr>\n",
       "      <th>499</th>\n",
       "      <td>TCGA-ER-A3PL</td>\n",
       "      <td>M1a</td>\n",
       "      <td>T3b</td>\n",
       "    </tr>\n",
       "    <tr>\n",
       "      <th>582</th>\n",
       "      <td>TCGA-FS-A1ZH</td>\n",
       "      <td>M1c</td>\n",
       "      <td>T3b</td>\n",
       "    </tr>\n",
       "    <tr>\n",
       "      <th>583</th>\n",
       "      <td>TCGA-FS-A1ZH</td>\n",
       "      <td>M1c</td>\n",
       "      <td>T3b</td>\n",
       "    </tr>\n",
       "    <tr>\n",
       "      <th>608</th>\n",
       "      <td>TCGA-EE-A20I</td>\n",
       "      <td>M1c</td>\n",
       "      <td>TX</td>\n",
       "    </tr>\n",
       "    <tr>\n",
       "      <th>609</th>\n",
       "      <td>TCGA-EE-A20I</td>\n",
       "      <td>M1c</td>\n",
       "      <td>TX</td>\n",
       "    </tr>\n",
       "    <tr>\n",
       "      <th>662</th>\n",
       "      <td>TCGA-D3-A51N</td>\n",
       "      <td>M1c</td>\n",
       "      <td>T0</td>\n",
       "    </tr>\n",
       "    <tr>\n",
       "      <th>663</th>\n",
       "      <td>TCGA-D3-A51N</td>\n",
       "      <td>M1c</td>\n",
       "      <td>T0</td>\n",
       "    </tr>\n",
       "    <tr>\n",
       "      <th>666</th>\n",
       "      <td>TCGA-ER-A19T</td>\n",
       "      <td>M1a</td>\n",
       "      <td>T4a</td>\n",
       "    </tr>\n",
       "    <tr>\n",
       "      <th>667</th>\n",
       "      <td>TCGA-ER-A19T</td>\n",
       "      <td>M1a</td>\n",
       "      <td>T4a</td>\n",
       "    </tr>\n",
       "    <tr>\n",
       "      <th>688</th>\n",
       "      <td>TCGA-D3-A5GS</td>\n",
       "      <td>M1c</td>\n",
       "      <td>T1b</td>\n",
       "    </tr>\n",
       "    <tr>\n",
       "      <th>689</th>\n",
       "      <td>TCGA-D3-A5GS</td>\n",
       "      <td>M1c</td>\n",
       "      <td>T1b</td>\n",
       "    </tr>\n",
       "    <tr>\n",
       "      <th>736</th>\n",
       "      <td>TCGA-ER-A19J</td>\n",
       "      <td>M1</td>\n",
       "      <td>TX</td>\n",
       "    </tr>\n",
       "    <tr>\n",
       "      <th>737</th>\n",
       "      <td>TCGA-ER-A19J</td>\n",
       "      <td>M1</td>\n",
       "      <td>TX</td>\n",
       "    </tr>\n",
       "    <tr>\n",
       "      <th>738</th>\n",
       "      <td>TCGA-RP-A694</td>\n",
       "      <td>M1c</td>\n",
       "      <td>TX</td>\n",
       "    </tr>\n",
       "    <tr>\n",
       "      <th>739</th>\n",
       "      <td>TCGA-RP-A694</td>\n",
       "      <td>M1c</td>\n",
       "      <td>TX</td>\n",
       "    </tr>\n",
       "    <tr>\n",
       "      <th>794</th>\n",
       "      <td>TCGA-D3-A8GE</td>\n",
       "      <td>M1b</td>\n",
       "      <td>TX</td>\n",
       "    </tr>\n",
       "    <tr>\n",
       "      <th>795</th>\n",
       "      <td>TCGA-D3-A8GE</td>\n",
       "      <td>M1b</td>\n",
       "      <td>TX</td>\n",
       "    </tr>\n",
       "    <tr>\n",
       "      <th>814</th>\n",
       "      <td>TCGA-DA-A1I5</td>\n",
       "      <td>M1c</td>\n",
       "      <td>T1a</td>\n",
       "    </tr>\n",
       "    <tr>\n",
       "      <th>815</th>\n",
       "      <td>TCGA-DA-A1I5</td>\n",
       "      <td>M1c</td>\n",
       "      <td>T1a</td>\n",
       "    </tr>\n",
       "    <tr>\n",
       "      <th>938</th>\n",
       "      <td>TCGA-D9-A148</td>\n",
       "      <td>M1b</td>\n",
       "      <td>TX</td>\n",
       "    </tr>\n",
       "    <tr>\n",
       "      <th>939</th>\n",
       "      <td>TCGA-D9-A148</td>\n",
       "      <td>M1b</td>\n",
       "      <td>TX</td>\n",
       "    </tr>\n",
       "  </tbody>\n",
       "</table>\n",
       "</div>"
      ],
      "text/plain": [
       "         Patients ajcc_pathologic_m ajcc_pathologic_t\n",
       "30   TCGA-GN-A263               M1c               T4b\n",
       "31   TCGA-GN-A263               M1c               T4b\n",
       "52   TCGA-WE-A8K5               M1c               T2a\n",
       "53   TCGA-WE-A8K5               M1c               T2a\n",
       "136  TCGA-FS-A1Z3                M1                TX\n",
       "137  TCGA-FS-A1Z3                M1                TX\n",
       "152  TCGA-EB-A5FP               M1b               T4b\n",
       "153  TCGA-EB-A5FP               M1b               T4b\n",
       "188  TCGA-RP-A695               M1c                TX\n",
       "189  TCGA-RP-A695               M1c                TX\n",
       "198  TCGA-RP-A693               M1c                TX\n",
       "199  TCGA-RP-A693               M1c                TX\n",
       "222  TCGA-ER-A19A                M1                TX\n",
       "223  TCGA-ER-A19A                M1                TX\n",
       "228  TCGA-FW-A3I3                M1               '--\n",
       "229  TCGA-FW-A3I3                M1               '--\n",
       "322  TCGA-WE-A8ZT               M1b               T3b\n",
       "323  TCGA-WE-A8ZT               M1b               T3b\n",
       "340  TCGA-BF-AAP0                M1                T4\n",
       "341  TCGA-BF-AAP0                M1                T4\n",
       "372  TCGA-DA-A95Z               M1a                TX\n",
       "373  TCGA-DA-A95Z               M1a                TX\n",
       "378  TCGA-DA-A1I0               M1a               T4b\n",
       "379  TCGA-DA-A1I0               M1a               T4b\n",
       "454  TCGA-D3-A1Q8               M1b                T0\n",
       "455  TCGA-D3-A1Q8               M1b                T0\n",
       "498  TCGA-ER-A3PL               M1a               T3b\n",
       "499  TCGA-ER-A3PL               M1a               T3b\n",
       "582  TCGA-FS-A1ZH               M1c               T3b\n",
       "583  TCGA-FS-A1ZH               M1c               T3b\n",
       "608  TCGA-EE-A20I               M1c                TX\n",
       "609  TCGA-EE-A20I               M1c                TX\n",
       "662  TCGA-D3-A51N               M1c                T0\n",
       "663  TCGA-D3-A51N               M1c                T0\n",
       "666  TCGA-ER-A19T               M1a               T4a\n",
       "667  TCGA-ER-A19T               M1a               T4a\n",
       "688  TCGA-D3-A5GS               M1c               T1b\n",
       "689  TCGA-D3-A5GS               M1c               T1b\n",
       "736  TCGA-ER-A19J                M1                TX\n",
       "737  TCGA-ER-A19J                M1                TX\n",
       "738  TCGA-RP-A694               M1c                TX\n",
       "739  TCGA-RP-A694               M1c                TX\n",
       "794  TCGA-D3-A8GE               M1b                TX\n",
       "795  TCGA-D3-A8GE               M1b                TX\n",
       "814  TCGA-DA-A1I5               M1c               T1a\n",
       "815  TCGA-DA-A1I5               M1c               T1a\n",
       "938  TCGA-D9-A148               M1b                TX\n",
       "939  TCGA-D9-A148               M1b                TX"
      ]
     },
     "execution_count": 7,
     "metadata": {},
     "output_type": "execute_result"
    }
   ],
   "source": [
    "tcga_clinical_sub[tcga_clinical_sub['ajcc_pathologic_m'].isin(['M1c','M1','M1b','M1a'])]"
   ]
  },
  {
   "cell_type": "code",
   "execution_count": 8,
   "id": "348bb6cb",
   "metadata": {
    "scrolled": true
   },
   "outputs": [],
   "source": [
    "tcga_clinical_sub=tcga_clinical_sub.drop_duplicates(subset=['Patients'], keep='first')"
   ]
  },
  {
   "cell_type": "code",
   "execution_count": 9,
   "id": "35ba1b55",
   "metadata": {
    "scrolled": false
   },
   "outputs": [],
   "source": [
    "#ssGSEA of MHC-I and MHC-II\n",
    "mhc=pd.read_csv('tcga-skcm/TCGA-SKCM-ssGSEA.csv')\n",
    "for i in range(len(mhc)):\n",
    "    patient_id=mhc.iloc[i,0]\n",
    "    patient_id_l=patient_id.split('-')\n",
    "    patient_id_new=patient_id_l[0]+'-'+patient_id_l[1]+'-'+patient_id_l[2]\n",
    "    mhc.iloc[i,0]=patient_id_new"
   ]
  },
  {
   "cell_type": "code",
   "execution_count": 10,
   "id": "c74d3677",
   "metadata": {
    "scrolled": true
   },
   "outputs": [
    {
     "data": {
      "text/html": [
       "<div>\n",
       "<style scoped>\n",
       "    .dataframe tbody tr th:only-of-type {\n",
       "        vertical-align: middle;\n",
       "    }\n",
       "\n",
       "    .dataframe tbody tr th {\n",
       "        vertical-align: top;\n",
       "    }\n",
       "\n",
       "    .dataframe thead th {\n",
       "        text-align: right;\n",
       "    }\n",
       "</style>\n",
       "<table border=\"1\" class=\"dataframe\">\n",
       "  <thead>\n",
       "    <tr style=\"text-align: right;\">\n",
       "      <th></th>\n",
       "      <th>Patients</th>\n",
       "      <th>MHC-II HLA Geneset</th>\n",
       "      <th>MHC-I HLA and APM Geneset</th>\n",
       "    </tr>\n",
       "  </thead>\n",
       "  <tbody>\n",
       "    <tr>\n",
       "      <th>0</th>\n",
       "      <td>TCGA-3N-A9WB</td>\n",
       "      <td>-10662.623480</td>\n",
       "      <td>-1602.267569</td>\n",
       "    </tr>\n",
       "    <tr>\n",
       "      <th>1</th>\n",
       "      <td>TCGA-3N-A9WC</td>\n",
       "      <td>10449.358510</td>\n",
       "      <td>10360.316490</td>\n",
       "    </tr>\n",
       "    <tr>\n",
       "      <th>2</th>\n",
       "      <td>TCGA-3N-A9WD</td>\n",
       "      <td>5523.701612</td>\n",
       "      <td>2741.637894</td>\n",
       "    </tr>\n",
       "  </tbody>\n",
       "</table>\n",
       "</div>"
      ],
      "text/plain": [
       "       Patients  MHC-II HLA Geneset  MHC-I HLA and APM Geneset\n",
       "0  TCGA-3N-A9WB       -10662.623480               -1602.267569\n",
       "1  TCGA-3N-A9WC        10449.358510               10360.316490\n",
       "2  TCGA-3N-A9WD         5523.701612                2741.637894"
      ]
     },
     "execution_count": 10,
     "metadata": {},
     "output_type": "execute_result"
    }
   ],
   "source": [
    "mhc.head(3)"
   ]
  },
  {
   "cell_type": "code",
   "execution_count": 11,
   "id": "9a2ebaa7",
   "metadata": {},
   "outputs": [],
   "source": [
    "#abstract the pd-1 expression \n",
    "#tcga_genes=pd.read_csv('tcga-skcm/RNA_TCGA_SKCM.csv')\n",
    "#tcga_pd=tcga_genes[tcga_genes['GeneSymbol']=='PDCD1'].T\n",
    "#tcga_pd.to_csv('tcga-skcm/PDCD1.csv')\n",
    "tcga_pd=pd.read_csv('tcga-skcm/PDCD1.csv')"
   ]
  },
  {
   "cell_type": "code",
   "execution_count": 12,
   "id": "a6a47da6",
   "metadata": {},
   "outputs": [
    {
     "data": {
      "text/html": [
       "<div>\n",
       "<style scoped>\n",
       "    .dataframe tbody tr th:only-of-type {\n",
       "        vertical-align: middle;\n",
       "    }\n",
       "\n",
       "    .dataframe tbody tr th {\n",
       "        vertical-align: top;\n",
       "    }\n",
       "\n",
       "    .dataframe thead th {\n",
       "        text-align: right;\n",
       "    }\n",
       "</style>\n",
       "<table border=\"1\" class=\"dataframe\">\n",
       "  <thead>\n",
       "    <tr style=\"text-align: right;\">\n",
       "      <th></th>\n",
       "      <th>Patients</th>\n",
       "      <th>T cells CD8</th>\n",
       "      <th>T cells regulatory (Tregs)</th>\n",
       "    </tr>\n",
       "  </thead>\n",
       "  <tbody>\n",
       "    <tr>\n",
       "      <th>0</th>\n",
       "      <td>TCGA-3N-A9WB</td>\n",
       "      <td>0.026118</td>\n",
       "      <td>0.006082</td>\n",
       "    </tr>\n",
       "    <tr>\n",
       "      <th>1</th>\n",
       "      <td>TCGA-3N-A9WC</td>\n",
       "      <td>0.398264</td>\n",
       "      <td>0.054761</td>\n",
       "    </tr>\n",
       "    <tr>\n",
       "      <th>2</th>\n",
       "      <td>TCGA-3N-A9WD</td>\n",
       "      <td>0.252902</td>\n",
       "      <td>0.074125</td>\n",
       "    </tr>\n",
       "  </tbody>\n",
       "</table>\n",
       "</div>"
      ],
      "text/plain": [
       "       Patients  T cells CD8  T cells regulatory (Tregs)\n",
       "0  TCGA-3N-A9WB     0.026118                    0.006082\n",
       "1  TCGA-3N-A9WC     0.398264                    0.054761\n",
       "2  TCGA-3N-A9WD     0.252902                    0.074125"
      ]
     },
     "execution_count": 12,
     "metadata": {},
     "output_type": "execute_result"
    }
   ],
   "source": [
    "#from the cibersort analysis import the information of treg\n",
    "tcga_treg=pd.read_csv('tcga-skcm/TCGA_SKCM_CIBERSORT.csv')\n",
    "tcga_treg_sub=tcga_treg[['sample_name','T cells CD8','T cells regulatory (Tregs)']]\n",
    "tcga_treg_sub=tcga_treg_sub.rename(columns = {\"sample_name\":\"Patients\"})\n",
    "tcga_treg_sub.head(3)"
   ]
  },
  {
   "cell_type": "code",
   "execution_count": 13,
   "id": "2a5a35aa",
   "metadata": {
    "scrolled": false
   },
   "outputs": [
    {
     "data": {
      "text/html": [
       "<div>\n",
       "<style scoped>\n",
       "    .dataframe tbody tr th:only-of-type {\n",
       "        vertical-align: middle;\n",
       "    }\n",
       "\n",
       "    .dataframe tbody tr th {\n",
       "        vertical-align: top;\n",
       "    }\n",
       "\n",
       "    .dataframe thead th {\n",
       "        text-align: right;\n",
       "    }\n",
       "</style>\n",
       "<table border=\"1\" class=\"dataframe\">\n",
       "  <thead>\n",
       "    <tr style=\"text-align: right;\">\n",
       "      <th></th>\n",
       "      <th>Patients</th>\n",
       "      <th>T.CD8</th>\n",
       "    </tr>\n",
       "  </thead>\n",
       "  <tbody>\n",
       "    <tr>\n",
       "      <th>0</th>\n",
       "      <td>TCGA-EE-A2GE</td>\n",
       "      <td>1.509375</td>\n",
       "    </tr>\n",
       "    <tr>\n",
       "      <th>1</th>\n",
       "      <td>TCGA-ER-A193</td>\n",
       "      <td>1.019785</td>\n",
       "    </tr>\n",
       "    <tr>\n",
       "      <th>2</th>\n",
       "      <td>TCGA-EB-A3Y6</td>\n",
       "      <td>-0.263430</td>\n",
       "    </tr>\n",
       "  </tbody>\n",
       "</table>\n",
       "</div>"
      ],
      "text/plain": [
       "       Patients     T.CD8\n",
       "0  TCGA-EE-A2GE  1.509375\n",
       "1  TCGA-ER-A193  1.019785\n",
       "2  TCGA-EB-A3Y6 -0.263430"
      ]
     },
     "execution_count": 13,
     "metadata": {},
     "output_type": "execute_result"
    }
   ],
   "source": [
    "#from the time signature import the informaiton of cd8+T \n",
    "tcga_time=pd.read_csv('tcga-skcm/tcga_time.csv')\n",
    "tcga_time_sub=tcga_time[['x','T.CD8']]\n",
    "tcga_time_sub=tcga_time_sub.rename(columns = {\"x\":\"Patients\"})\n",
    "tcga_time_sub.head(3)"
   ]
  },
  {
   "cell_type": "code",
   "execution_count": 14,
   "id": "271378ab",
   "metadata": {},
   "outputs": [
    {
     "data": {
      "image/png": "[encoded data removed]",
      "text/plain": [
       "<Figure size 640x480 with 1 Axes>"
      ]
     },
     "metadata": {},
     "output_type": "display_data"
    }
   ],
   "source": [
    "import matplotlib.pyplot as plt\n",
    "plt.figure()\n",
    "plt.hist(tcga_time_sub['T.CD8'])\n",
    "plt.show()"
   ]
  },
  {
   "cell_type": "code",
   "execution_count": 15,
   "id": "37b0a4eb",
   "metadata": {
    "scrolled": true
   },
   "outputs": [],
   "source": [
    "#merge all the table above\n",
    "tcga_all=pd.merge(tcga_clinical_sub,mhc,on='Patients',how='inner')"
   ]
  },
  {
   "cell_type": "code",
   "execution_count": 16,
   "id": "b92dbc20",
   "metadata": {},
   "outputs": [],
   "source": [
    "tcga_all=pd.merge(tcga_all,tcga_pd,on='Patients',how='inner')"
   ]
  },
  {
   "cell_type": "code",
   "execution_count": 17,
   "id": "c33a85a0",
   "metadata": {},
   "outputs": [],
   "source": [
    "tcga_all=pd.merge(tcga_all,tcga_treg_sub,on='Patients',how='inner')"
   ]
  },
  {
   "cell_type": "code",
   "execution_count": 18,
   "id": "d061ddab",
   "metadata": {},
   "outputs": [],
   "source": [
    "tcga_all=pd.merge(tcga_all,tcga_time_sub,on='Patients',how='inner')"
   ]
  },
  {
   "cell_type": "code",
   "execution_count": 19,
   "id": "96db94e5",
   "metadata": {
    "scrolled": true
   },
   "outputs": [
    {
     "data": {
      "text/plain": [
       "T4b    111\n",
       "TX      47\n",
       "T3b     40\n",
       "T3a     39\n",
       "T2a     34\n",
       "T2      32\n",
       "'--     30\n",
       "T4a     28\n",
       "T0      23\n",
       "T1a     21\n",
       "T2b     15\n",
       "T4      15\n",
       "T3      14\n",
       "T1      10\n",
       "T1b     10\n",
       "Tis      8\n",
       "Name: ajcc_pathologic_t, dtype: int64"
      ]
     },
     "execution_count": 19,
     "metadata": {},
     "output_type": "execute_result"
    }
   ],
   "source": [
    "#mapping tumor stage to tumor population\n",
    "tcga_all['ajcc_pathologic_t'].value_counts()"
   ]
  },
  {
   "cell_type": "code",
   "execution_count": 20,
   "id": "a28d012b",
   "metadata": {
    "scrolled": true
   },
   "outputs": [],
   "source": [
    "# TX: Primary tumour cannot be assessed.\n",
    "# T0: No evidence of primary tumour.\n",
    "# Tis: Melanoma in situ (Clark level I – it remains in the epidermis).\n",
    "# T1a: The melanoma is less than or equal to 1.0 mm thick (1.0 mm = 1/25 or .04 inches), without ulceration and < 1 mitioses / mm2.\n",
    "# T1b: The melanoma is less than or equal to 1.0 mm thick, > 1 mitoses/mm2, and/or with ulceration.\n",
    "# T2a: The melanoma is between 1.01 and 2.0 mm thick without ulceration.\n",
    "# T2b: The melanoma is between 1.01 and 2.0 mm thick with ulceration.\n",
    "\n",
    "# T3a: The melanoma is between 2.01 and 4.0 mm thick without ulceration.\n",
    "# T3b: The melanoma is between 2.01 and 4.0 mm thick with ulceration.\n",
    "# T4a: The melanoma is thicker than 4.0 mm without ulceration.\n",
    "# T4b: The melanoma is thicker than 4.0 mm with ulceration\n",
    "\n",
    "#3.3e7(4mm),5e5(1mm),1.7e6(1.5mm),4e6(2mm),1.4e7(3mm),2.6e8(4mm)\n",
    "tumor_size={'T4b':3.3e7,'T3b':1.4e7,'T3a':1.4e7,'T2a':1.7e6,'T2':1.7e6,\n",
    "            'T4a':3.3e7,'T1a':5e5,'T4':3.3e7,'T2b':1.7e6,'T3':1.4e7,'T1':5e5,'T1b':5e5,\n",
    "           'TX':1e5,'T0':1e5,'Tis':1e5}\n",
    "\n",
    "tumor_size_l=[]\n",
    "for i in range(len(tcga_all)):\n",
    "    t_stage=tcga_all.iloc[i,2]\n",
    "    try:\n",
    "        tumor_s=tumor_size[t_stage]\n",
    "    except:\n",
    "        tumor_s=0\n",
    "    tumor_size_l.append(tumor_s)\n",
    "tcga_all['tumor_size']=tumor_size_l"
   ]
  },
  {
   "cell_type": "code",
   "execution_count": 21,
   "id": "49f8002a",
   "metadata": {},
   "outputs": [],
   "source": [
    "#calculate the ratio of Treg to CD8+T in cibersort result\n",
    "tcga_all['Treg_pro']=tcga_all['T cells regulatory (Tregs)']/tcga_all['T cells CD8']\n",
    "\n",
    "#deal with abnormal value of Treg_pro\n",
    "for i in range(len(tcga_all)):\n",
    "    Treg_pro=tcga_all.loc[i,'Treg_pro']\n",
    "    if Treg_pro>=0 and Treg_pro<100:\n",
    "        pass\n",
    "    else:\n",
    "        tcga_all.loc[i,'Treg_pro']=0"
   ]
  },
  {
   "cell_type": "code",
   "execution_count": 22,
   "id": "86dee5b1",
   "metadata": {
    "scrolled": true
   },
   "outputs": [],
   "source": [
    "#calculate total MHC expression in ssGSEA result\n",
    "x=tcga_all['MHC-II HLA Geneset']+tcga_all['MHC-I HLA and APM Geneset']\n",
    "tcga_all['mhc']=tcga_all['MHC-II HLA Geneset']+tcga_all['MHC-I HLA and APM Geneset']"
   ]
  },
  {
   "cell_type": "code",
   "execution_count": 23,
   "id": "430c8821",
   "metadata": {
    "scrolled": true
   },
   "outputs": [
    {
     "data": {
      "text/plain": [
       "PearsonRResult(statistic=0.8088017367892889, pvalue=1.3735154151201202e-111)"
      ]
     },
     "execution_count": 23,
     "metadata": {},
     "output_type": "execute_result"
    }
   ],
   "source": [
    "x=x.tolist()\n",
    "y=tcga_all['T.CD8']\n",
    "#correlation of MHC expression and CD8+T cells' scores\n",
    "r = np.corrcoef(x, y)\n",
    "scipy.stats.pearsonr(x, y) "
   ]
  },
  {
   "cell_type": "code",
   "execution_count": 24,
   "id": "74b1be34",
   "metadata": {},
   "outputs": [],
   "source": [
    "#delete the samples without tumor stage record\n",
    "tcga_all=tcga_all[tcga_all['tumor_size']>0]"
   ]
  },
  {
   "cell_type": "code",
   "execution_count": 25,
   "id": "f205311f",
   "metadata": {},
   "outputs": [],
   "source": [
    "#Because the expression of PDCD1 is long tail,normalize it by np.log(x+1)/np.log(max(x)+1)\n",
    "tcga_all['PDCD1'].describe()\n",
    "tcga_all['mu']=np.log(tcga_all['PDCD1']+1)/8.83"
   ]
  },
  {
   "cell_type": "code",
   "execution_count": 26,
   "id": "6b0b13f7",
   "metadata": {},
   "outputs": [],
   "source": [
    "#normalize the MHC expression\n",
    "tcga_all['mhc_norm']=(tcga_all['mhc']+22245)/(22210+22245)"
   ]
  },
  {
   "cell_type": "code",
   "execution_count": 27,
   "id": "74e6ea8c",
   "metadata": {
    "scrolled": false
   },
   "outputs": [
    {
     "data": {
      "text/plain": [
       "count    447.000000\n",
       "mean      -0.023598\n",
       "std        1.222055\n",
       "min       -2.231578\n",
       "25%       -1.054362\n",
       "50%       -0.099072\n",
       "75%        0.900045\n",
       "max        3.384689\n",
       "Name: T.CD8, dtype: float64"
      ]
     },
     "execution_count": 27,
     "metadata": {},
     "output_type": "execute_result"
    }
   ],
   "source": [
    "#because the ratio of CD8+T cells to tumor cells is about 0-0.03, map the CD8+T score to CD8+T/tumor ratio\n",
    "tcga_all['T.CD8'].describe()"
   ]
  },
  {
   "cell_type": "code",
   "execution_count": 3,
   "id": "8cb407ca",
   "metadata": {},
   "outputs": [
    {
     "data": {
      "text/plain": [
       "0.006239244799999999"
      ]
     },
     "execution_count": 3,
     "metadata": {},
     "output_type": "execute_result"
    }
   ],
   "source": [
    "cd8t_std=0.0053\n",
    "-1.054362*cd8t_std+cd8t_std*2.231578"
   ]
  },
  {
   "cell_type": "code",
   "execution_count": 28,
   "id": "9b24c4b4",
   "metadata": {
    "scrolled": true
   },
   "outputs": [
    {
     "name": "stdout",
     "output_type": "stream",
     "text": [
      "0.0053416263863523585\n"
     ]
    }
   ],
   "source": [
    "cd8t_std=0.03/(2.231578+3.384689)\n",
    "print(cd8t_std)\n",
    "cd8t_mean=cd8t_std*2.231578\n",
    "tcga_all['tcd8_pop']=(tcga_all['T.CD8']*cd8t_std+cd8t_mean)"
   ]
  },
  {
   "cell_type": "code",
   "execution_count": 206,
   "id": "4ea7ecd0",
   "metadata": {},
   "outputs": [],
   "source": [
    "tcga_all['a']=np.random.uniform(1.45e-2,2.23e-2,len(tcga_all))"
   ]
  },
  {
   "cell_type": "code",
   "execution_count": 198,
   "id": "dbe89734",
   "metadata": {},
   "outputs": [],
   "source": [
    "tcga_all=tcga_all[tcga_all['ajcc_pathologic_m']=='M0']"
   ]
  },
  {
   "cell_type": "code",
   "execution_count": 207,
   "id": "f2e880f3",
   "metadata": {},
   "outputs": [],
   "source": [
    "tcga_all.to_csv('Preprocessed_data/tcga_all.csv')"
   ]
  }
 ],
 "metadata": {
  "kernelspec": {
   "display_name": "Python 3 (ipykernel)",
   "language": "python",
   "name": "python3"
  },
  "language_info": {
   "codemirror_mode": {
    "name": "ipython",
    "version": 3
   },
   "file_extension": ".py",
   "mimetype": "text/x-python",
   "name": "python",
   "nbconvert_exporter": "python",
   "pygments_lexer": "ipython3",
   "version": "3.8.8"
  }
 },
 "nbformat": 4,
 "nbformat_minor": 5
}
