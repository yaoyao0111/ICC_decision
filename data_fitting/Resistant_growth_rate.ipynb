{
 "cells": [
  {
   "cell_type": "code",
   "execution_count": 1,
   "id": "6d3612ac",
   "metadata": {},
   "outputs": [],
   "source": [
    "import numpy as np\n",
    "from scipy import integrate\n",
    "import math"
   ]
  },
  {
   "cell_type": "code",
   "execution_count": 2,
   "id": "28b87552",
   "metadata": {},
   "outputs": [],
   "source": [
    "import numpy as np, matplotlib.pyplot as plt"
   ]
  },
  {
   "cell_type": "code",
   "execution_count": 3,
   "id": "56fc6e62",
   "metadata": {},
   "outputs": [],
   "source": [
    "from tqdm import trange"
   ]
  },
  {
   "cell_type": "code",
   "execution_count": 4,
   "id": "c5351b6d",
   "metadata": {
    "scrolled": false
   },
   "outputs": [
    {
     "data": {
      "text/plain": [
       "0.024834905660377354"
      ]
     },
     "execution_count": 4,
     "metadata": {},
     "output_type": "execute_result"
    }
   ],
   "source": [
    "T=100\n",
    "L=3\n",
    "mu=0\n",
    "d = 2.34  \n",
    "l = 2\n",
    "s = 8.39e-2\n",
    "d * (L * (1 - mu) / T) ** l / (s + (L * (1 - mu) / T) ** l)"
   ]
  },
  {
   "cell_type": "code",
   "execution_count": 9,
   "id": "afb35607",
   "metadata": {},
   "outputs": [],
   "source": [
    "class environment():\n",
    "    def __init__(self,a,ar_ratio):\n",
    "        self.a=a\n",
    "        self.ar=self.a*ar_ratio\n",
    "        self.b = 3.846e-9\n",
    "        \n",
    "        self.alpha_sr=0.7\n",
    "        self.alpha_rs=0.9\n",
    "        \n",
    "        \n",
    "    def state_eq(self, t, x):\n",
    "        Ts = x[0]\n",
    "        Tr = x[1]\n",
    "\n",
    "        T = Ts + Tr\n",
    "        \n",
    "\n",
    "        dts = max(self.a * Ts * (1 - self.b * (Ts + self.alpha_sr * Tr)) - 1, 0) \n",
    "\n",
    "        dtr = max(self.ar * Tr * (1 - self.b * (self.alpha_rs * Ts + Tr)) - 1, 0)\n",
    "        \n",
    "        return np.array([dts, dtr])\n",
    "    \n",
    "    def gen_state(self,t1):\n",
    "\n",
    "        t0=0    # start and end\n",
    "        interval=t1*24+1\n",
    "        t = np.linspace(t0, t1,interval)  # the points of evaluation of solution\n",
    "        x0 = [1e4,4e1]    # initial value\n",
    "        x = np.zeros((len(t), len(x0)))   # array for solution\n",
    "        x[0, :] = x0\n",
    "        r = integrate.ode(self.state_eq).set_integrator(\"dopri5\")\n",
    "        r.set_initial_value(x0, t0)\n",
    "        for i in range(1, t.size):\n",
    "            x[i, :] = r.integrate(t[i])\n",
    "        return t,x\n",
    "    \n",
    "def cal_time(x_,tumor):\n",
    "    for i in range(len(x_.T[0])):\n",
    "        if x_.T[0][i]+x_.T[1][i]>tumor:\n",
    "            break\n",
    "    return i\n"
   ]
  },
  {
   "cell_type": "code",
   "execution_count": 10,
   "id": "288d64f1",
   "metadata": {},
   "outputs": [],
   "source": [
    "import pandas as pd\n",
    "tcga_all=pd.read_csv('tcga_all.csv')"
   ]
  },
  {
   "cell_type": "code",
   "execution_count": 11,
   "id": "ec004135",
   "metadata": {},
   "outputs": [],
   "source": [
    "ar_ratio_l=[(1.3,1.4),(1.4,1.5),(1.5,1.6),(1.6,1.7),(1.7,1.8),(1.8,1.9),(1.9,2.0)]"
   ]
  },
  {
   "cell_type": "code",
   "execution_count": 12,
   "id": "a028de6e",
   "metadata": {
    "scrolled": true
   },
   "outputs": [
    {
     "name": "stderr",
     "output_type": "stream",
     "text": [
      "\r",
      "  0%|                                                   | 0/414 [00:00<?, ?it/s]"
     ]
    },
    {
     "name": "stdout",
     "output_type": "stream",
     "text": [
      "(1.3, 1.4)\n"
     ]
    },
    {
     "name": "stderr",
     "output_type": "stream",
     "text": [
      "100%|█████████████████████████████████████████| 414/414 [02:41<00:00,  2.56it/s]\n",
      "  0%|                                                   | 0/414 [00:00<?, ?it/s]"
     ]
    },
    {
     "name": "stdout",
     "output_type": "stream",
     "text": [
      "(1.4, 1.5)\n"
     ]
    },
    {
     "name": "stderr",
     "output_type": "stream",
     "text": [
      "100%|█████████████████████████████████████████| 414/414 [02:41<00:00,  2.56it/s]\n",
      "  0%|                                                   | 0/414 [00:00<?, ?it/s]"
     ]
    },
    {
     "name": "stdout",
     "output_type": "stream",
     "text": [
      "(1.5, 1.6)\n"
     ]
    },
    {
     "name": "stderr",
     "output_type": "stream",
     "text": [
      "100%|█████████████████████████████████████████| 414/414 [02:40<00:00,  2.58it/s]\n",
      "  0%|                                                   | 0/414 [00:00<?, ?it/s]"
     ]
    },
    {
     "name": "stdout",
     "output_type": "stream",
     "text": [
      "(1.6, 1.7)\n"
     ]
    },
    {
     "name": "stderr",
     "output_type": "stream",
     "text": [
      "100%|█████████████████████████████████████████| 414/414 [02:40<00:00,  2.57it/s]\n",
      "  0%|                                                   | 0/414 [00:00<?, ?it/s]"
     ]
    },
    {
     "name": "stdout",
     "output_type": "stream",
     "text": [
      "(1.7, 1.8)\n"
     ]
    },
    {
     "name": "stderr",
     "output_type": "stream",
     "text": [
      "100%|█████████████████████████████████████████| 414/414 [02:43<00:00,  2.53it/s]\n",
      "  0%|                                                   | 0/414 [00:00<?, ?it/s]"
     ]
    },
    {
     "name": "stdout",
     "output_type": "stream",
     "text": [
      "(1.8, 1.9)\n"
     ]
    },
    {
     "name": "stderr",
     "output_type": "stream",
     "text": [
      "100%|█████████████████████████████████████████| 414/414 [02:40<00:00,  2.57it/s]\n",
      "  0%|                                                   | 0/414 [00:00<?, ?it/s]"
     ]
    },
    {
     "name": "stdout",
     "output_type": "stream",
     "text": [
      "(1.9, 2.0)\n"
     ]
    },
    {
     "name": "stderr",
     "output_type": "stream",
     "text": [
      "100%|█████████████████████████████████████████| 414/414 [05:13<00:00,  1.32it/s]\n"
     ]
    }
   ],
   "source": [
    "res_prop_all=[]\n",
    "\n",
    "for (l_,u_) in ar_ratio_l:\n",
    "    print((l_,u_))\n",
    "    res_prop=[]\n",
    "    for i in trange(len(tcga_all)):\n",
    "        tumor=tcga_all.loc[i,'tumor_size']\n",
    "        a=tcga_all.loc[i,'a']\n",
    "        ar_ratio=np.random.uniform(l_,u_)\n",
    "        env=environment(a,ar_ratio)\n",
    "        t1=600\n",
    "        t,x=env.gen_state(t1)\n",
    "        j=cal_time(x,tumor)\n",
    "        res_prop.append(x[j][1]/tumor)\n",
    "    res_prop_all.append(res_prop)"
   ]
  },
  {
   "cell_type": "code",
   "execution_count": 13,
   "id": "bf591581",
   "metadata": {},
   "outputs": [
    {
     "name": "stderr",
     "output_type": "stream",
     "text": [
      "100%|█████████████████████████████████████████| 414/414 [02:43<00:00,  2.54it/s]\n"
     ]
    }
   ],
   "source": [
    "\n",
    "res_prop=[]\n",
    "for i in trange(len(tcga_all)):\n",
    "    tumor=tcga_all.loc[i,'tumor_size']\n",
    "    a=tcga_all.loc[i,'a']\n",
    "    ar_ratio=np.random.uniform(1.3,1.8)\n",
    "    env=environment(a,ar_ratio)\n",
    "    t1=600\n",
    "    t,x=env.gen_state(t1)\n",
    "    j=cal_time(x,tumor)\n",
    "    res_prop.append(x[j][1]/tumor)\n",
    "res_prop_all.append(res_prop)"
   ]
  },
  {
   "cell_type": "code",
   "execution_count": 14,
   "id": "f769f59e",
   "metadata": {
    "scrolled": false
   },
   "outputs": [
    {
     "name": "stderr",
     "output_type": "stream",
     "text": [
      "The PostScript backend does not support transparency; partially transparent artists will be rendered opaque.\n",
      "The PostScript backend does not support transparency; partially transparent artists will be rendered opaque.\n",
      "The PostScript backend does not support transparency; partially transparent artists will be rendered opaque.\n",
      "The PostScript backend does not support transparency; partially transparent artists will be rendered opaque.\n",
      "The PostScript backend does not support transparency; partially transparent artists will be rendered opaque.\n",
      "The PostScript backend does not support transparency; partially transparent artists will be rendered opaque.\n",
      "The PostScript backend does not support transparency; partially transparent artists will be rendered opaque.\n",
      "The PostScript backend does not support transparency; partially transparent artists will be rendered opaque.\n"
     ]
    },
    {
     "data": {
      "image/png": "[encoded data removed]",
      "text/plain": [
       "<Figure size 1100x500 with 1 Axes>"
      ]
     },
     "metadata": {},
     "output_type": "display_data"
    }
   ],
   "source": [
    "\n",
    "\n",
    "fig, ax = plt.subplots(nrows=1, ncols=1, figsize=(11, 5))\n",
    "\n",
    "\n",
    "# plot violin plot\n",
    "ax.violinplot(res_prop_all,\n",
    "                  showmeans=True,\n",
    "                  showmedians=False)\n",
    "ax.set_title('')\n",
    "\n",
    "ax.yaxis.grid(True)\n",
    "ax.xaxis.set_ticks(np.arange(9))\n",
    "ax.set_xticklabels(['','U(1.3,1.4)','U(1.4,1.5)','U(1.5,1.6)','U(1.6,1.7)','U(1.7,1.8)','U(1.8,1.9)','U(1.9,2.0)','U(1.3,1.8)'],rotation = 5)\n",
    "# ax.set_xlabel('Agent')\n",
    "ax.set_ylabel('Proportion of resistant tumor')\n",
    "plt.savefig(\"/Users/yaoyao/Desktop/research/cancer/ICC_decision_new/prop_resistant.eps\", format='eps', dpi=1000)\n",
    "# plt.show()"
   ]
  },
  {
   "cell_type": "code",
   "execution_count": null,
   "id": "0f23509f",
   "metadata": {},
   "outputs": [],
   "source": []
  }
 ],
 "metadata": {
  "kernelspec": {
   "display_name": "Python 3 (ipykernel)",
   "language": "python",
   "name": "python3"
  },
  "language_info": {
   "codemirror_mode": {
    "name": "ipython",
    "version": 3
   },
   "file_extension": ".py",
   "mimetype": "text/x-python",
   "name": "python",
   "nbconvert_exporter": "python",
   "pygments_lexer": "ipython3",
   "version": "3.8.8"
  }
 },
 "nbformat": 4,
 "nbformat_minor": 5
}
